{
 "cells": [
  {
   "cell_type": "code",
   "execution_count": null,
   "metadata": {},
   "outputs": [],
   "source": [
    "from models import VectorQuantizedVAE\n",
    "import torch\n",
    "torch.set_printoptions(threshold=10000)\n",
    "from torch.utils.data import DataLoader, random_split\n",
    "import torchvision.transforms as transforms\n",
    "from torchvision.utils import save_image, make_grid\n",
    "import numpy as np\n",
    "import os \n",
    "\n",
    "from dataset import CustomDataset\n",
    "\n",
    "from constants import *\n",
    "\n",
    "torch.set_float32_matmul_precision('medium')"
   ]
  },
  {
   "cell_type": "code",
   "execution_count": null,
   "metadata": {},
   "outputs": [],
   "source": [
    "def generate_samples(images, model):\n",
    "    with torch.no_grad():\n",
    "        images = images.to(device)\n",
    "        x_tilde, _, _ = model(images)\n",
    "    return x_tilde\n",
    "\n",
    "bs = 1\n",
    "\n",
    "device = torch.device('cuda' if torch.cuda.is_available() else 'cpu')\n",
    "\n",
    "dataset = CustomDataset(transform=transforms.Compose([transforms.ToTensor(), \n",
    "                                                      transforms.Grayscale(),\n",
    "                                                      ]))\n",
    "\n",
    "data_loader = DataLoader(dataset, shuffle=True, batch_size=bs)"
   ]
  },
  {
   "cell_type": "code",
   "execution_count": null,
   "metadata": {},
   "outputs": [],
   "source": [
    "model = VectorQuantizedVAE.load_from_checkpoint('weights/latest.ckpt', num_hiddens=num_hiddens, num_residual_layers=num_residual_layers,                                                             num_residual_hiddens=num_residual_hiddens,\n",
    "                                                num_embeddings=num_embeddings, embedding_dim=embedding_dim,\n",
    "                                                commitment_cost=commitment_cost).to(device)\n",
    "model.eval()"
   ]
  },
  {
   "cell_type": "code",
   "execution_count": null,
   "metadata": {},
   "outputs": [],
   "source": [
    "folder_dict = {}\n",
    "folders = [f for f in os.listdir('all_mechanisms') if os.path.isdir(os.path.join('all_mechanisms', f))]\n",
    "\n",
    "# Enumerate through the folders and assign numbers starting from 0\n",
    "for index, folder_name in enumerate(folders):\n",
    "    folder_dict[folder_name] = index\n",
    "\n",
    "print(folder_dict)\n",
    "\n",
    "# Iterate through the DataLoader to obtain and plot original and reconstructed images\n",
    "for batch_num, batch in enumerate(data_loader):\n",
    "    # Separate the batch into images and labels (assuming labels are not needed)\n",
    "    images, description = batch\n",
    "    # print(description)\n",
    "    description = np.array([i for i in description])\n",
    "    # print(description)\n",
    "    mech_type = description[0].split('/')[0].split('\\\\')[1]\n",
    "    # print(mech_type)\n",
    "\n",
    "    description = description[0].split('/')[1].split(' ')\n",
    "    description = [x for x in description if x]\n",
    "\n",
    "    description[-5] = float(folder_dict[mech_type])\n",
    "    description = np.array([float(x) for x in description]).reshape(1, -1)\n",
    "\n",
    "    # print(description)\n",
    "\n",
    "    images = images.to(device)\n",
    "    \n",
    "    # Forward pass through the VAE model to obtain reconstructed images\n",
    "    with torch.no_grad():\n",
    "        z = model._encoder(images)\n",
    "        z = model._pre_vq_conv(z)\n",
    "        _, z = model._vq_vae(z)\n",
    "        z = z.cpu().detach().numpy()  \n",
    "\n",
    "    description = description.reshape(description.shape[1])\n",
    "    z = z.reshape(z.shape[0], z.shape[1], -1)\n",
    "\n",
    "    np.savez('vq_embeddings/{}.npz'.format(batch_num), arr1=z, arr2=description)\n"
   ]
  },
  {
   "cell_type": "code",
   "execution_count": null,
   "metadata": {},
   "outputs": [],
   "source": [
    "# Fixed images for Tensorboard\n",
    "fixed_images, _ = next(iter(data_loader))\n",
    "fixed_grid = make_grid(fixed_images, nrow=8, normalize=True)\n",
    "save_image(fixed_grid, 'orig_image.png')\n",
    "\n",
    "# Generate the samples first once\n",
    "_, reconstruction = model(fixed_images.to(device))\n",
    "grid = make_grid(reconstruction.cpu(), nrow=8, normalize=True)\n",
    "save_image(grid, 'recon_images.png')"
   ]
  }
 ],
 "metadata": {
  "kernelspec": {
   "display_name": "base",
   "language": "python",
   "name": "python3"
  },
  "language_info": {
   "codemirror_mode": {
    "name": "ipython",
    "version": 3
   },
   "file_extension": ".py",
   "mimetype": "text/x-python",
   "name": "python",
   "nbconvert_exporter": "python",
   "pygments_lexer": "ipython3",
   "version": "3.11.7"
  }
 },
 "nbformat": 4,
 "nbformat_minor": 2
}
